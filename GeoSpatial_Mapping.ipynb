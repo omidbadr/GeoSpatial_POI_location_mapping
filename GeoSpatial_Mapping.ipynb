{
 "cells": [
  {
   "cell_type": "code",
   "execution_count": 4,
   "metadata": {
    "colab": {
     "autoexec": {
      "startup": false,
      "wait_interval": 0
     },
     "base_uri": "https://localhost:8080/",
     "height": 938
    },
    "colab_type": "code",
    "executionInfo": {
     "elapsed": 16960,
     "status": "ok",
     "timestamp": 1529282961341,
     "user": {
      "displayName": "Omid Badr",
      "photoUrl": "https://lh3.googleusercontent.com/a/default-user=s128",
      "userId": "113638071916601593157"
     },
     "user_tz": 240
    },
    "id": "WuPHCIXhLBv4",
    "outputId": "a39d0091-ff74-4a66-e8ec-a016b0679666"
   },
   "outputs": [
    {
     "name": "stdout",
     "output_type": "stream",
     "text": [
      "Once deleted, variables cannot be recovered. Proceed (y/[n])? y\n"
     ]
    }
   ],
   "source": [
    "% reset"
   ]
  },
  {
   "cell_type": "markdown",
   "metadata": {},
   "source": [
    "## Import packages / libraries."
   ]
  },
  {
   "cell_type": "code",
   "execution_count": 5,
   "metadata": {},
   "outputs": [],
   "source": [
    "import numpy as np\n",
    "import pandas as pd\n",
    "import matplotlib.pyplot as plt\n",
    "import seaborn as sns\n",
    "from math import pi\n",
    "from scipy.spatial import distance"
   ]
  },
  {
   "cell_type": "markdown",
   "metadata": {},
   "source": [
    "## Import POI locations dataset.\n",
    "\n",
    "### It consists of 4 columns and \"POI1\" and \"POI1\" are identical."
   ]
  },
  {
   "cell_type": "code",
   "execution_count": 6,
   "metadata": {
    "colab": {
     "autoexec": {
      "startup": false,
      "wait_interval": 0
     },
     "base_uri": "https://localhost:8080/",
     "height": 190
    },
    "colab_type": "code",
    "executionInfo": {
     "elapsed": 288,
     "status": "ok",
     "timestamp": 1529282966726,
     "user": {
      "displayName": "Omid Badr",
      "photoUrl": "https://lh3.googleusercontent.com/a/default-user=s128",
      "userId": "113638071916601593157"
     },
     "user_tz": 240
    },
    "id": "2DcSNPOAO6FO",
    "outputId": "faf747de-bf0c-48e3-ebaf-614a157941a5"
   },
   "outputs": [
    {
     "name": "stdout",
     "output_type": "stream",
     "text": [
      "data shape: (4, 3)\n"
     ]
    },
    {
     "data": {
      "text/html": [
       "<div>\n",
       "<style scoped>\n",
       "    .dataframe tbody tr th:only-of-type {\n",
       "        vertical-align: middle;\n",
       "    }\n",
       "\n",
       "    .dataframe tbody tr th {\n",
       "        vertical-align: top;\n",
       "    }\n",
       "\n",
       "    .dataframe thead th {\n",
       "        text-align: right;\n",
       "    }\n",
       "</style>\n",
       "<table border=\"1\" class=\"dataframe\">\n",
       "  <thead>\n",
       "    <tr style=\"text-align: right;\">\n",
       "      <th></th>\n",
       "      <th>POIID</th>\n",
       "      <th>Latitude</th>\n",
       "      <th>Longitude</th>\n",
       "    </tr>\n",
       "  </thead>\n",
       "  <tbody>\n",
       "    <tr>\n",
       "      <th>0</th>\n",
       "      <td>POI1</td>\n",
       "      <td>53.546167</td>\n",
       "      <td>-113.485734</td>\n",
       "    </tr>\n",
       "    <tr>\n",
       "      <th>1</th>\n",
       "      <td>POI2</td>\n",
       "      <td>53.546167</td>\n",
       "      <td>-113.485734</td>\n",
       "    </tr>\n",
       "    <tr>\n",
       "      <th>2</th>\n",
       "      <td>POI3</td>\n",
       "      <td>45.521629</td>\n",
       "      <td>-73.566024</td>\n",
       "    </tr>\n",
       "    <tr>\n",
       "      <th>3</th>\n",
       "      <td>POI4</td>\n",
       "      <td>45.224830</td>\n",
       "      <td>-63.232729</td>\n",
       "    </tr>\n",
       "  </tbody>\n",
       "</table>\n",
       "</div>"
      ],
      "text/plain": [
       "  POIID   Latitude   Longitude\n",
       "0  POI1  53.546167 -113.485734\n",
       "1  POI2  53.546167 -113.485734\n",
       "2  POI3  45.521629  -73.566024\n",
       "3  POI4  45.224830  -63.232729"
      ]
     },
     "execution_count": 6,
     "metadata": {},
     "output_type": "execute_result"
    }
   ],
   "source": [
    "data_POI = pd.read_csv('C:/Users/sbadretale/Desktop/ws-data-spark-master/ws-data-spark-master/data/POIList.csv')\n",
    "\n",
    "print('data shape:' ,data_POI.shape)\n",
    "data_POI\n",
    "# data_POI.columns"
   ]
  },
  {
   "cell_type": "markdown",
   "metadata": {},
   "source": [
    "### Renaming the column \"Latitude\"  to remove the space."
   ]
  },
  {
   "cell_type": "code",
   "execution_count": 7,
   "metadata": {
    "colab": {
     "autoexec": {
      "startup": false,
      "wait_interval": 0
     },
     "base_uri": "https://localhost:8080/",
     "height": 34
    },
    "colab_type": "code",
    "executionInfo": {
     "elapsed": 492,
     "status": "ok",
     "timestamp": 1529282970920,
     "user": {
      "displayName": "Omid Badr",
      "photoUrl": "https://lh3.googleusercontent.com/a/default-user=s128",
      "userId": "113638071916601593157"
     },
     "user_tz": 240
    },
    "id": "C_7C8cPm5P06",
    "outputId": "65fde129-cf04-4a1a-9ec2-99f287f3772c"
   },
   "outputs": [
    {
     "name": "stdout",
     "output_type": "stream",
     "text": [
      "data columns:  Index(['POIID', ' Latitude', 'Longitude'], dtype='object')\n"
     ]
    }
   ],
   "source": [
    "print('data columns: ', data_POI.columns)\n",
    "data_POI = data_POI.rename(index=str, columns={\" Latitude\": \"Latitude\"})"
   ]
  },
  {
   "cell_type": "markdown",
   "metadata": {},
   "source": [
    "## Import the request dataset\n",
    "\n",
    "### It consists of 22025 requests."
   ]
  },
  {
   "cell_type": "code",
   "execution_count": 8,
   "metadata": {
    "colab": {
     "autoexec": {
      "startup": false,
      "wait_interval": 0
     },
     "base_uri": "https://localhost:8080/",
     "height": 272
    },
    "colab_type": "code",
    "executionInfo": {
     "elapsed": 298,
     "status": "ok",
     "timestamp": 1529282977677,
     "user": {
      "displayName": "Omid Badr",
      "photoUrl": "https://lh3.googleusercontent.com/a/default-user=s128",
      "userId": "113638071916601593157"
     },
     "user_tz": 240
    },
    "id": "D6zuNmJnLBt0",
    "outputId": "b83e6942-d193-4829-8105-8daac07df5b4"
   },
   "outputs": [
    {
     "name": "stdout",
     "output_type": "stream",
     "text": [
      "Total Number of requests:  22025\n"
     ]
    },
    {
     "data": {
      "text/html": [
       "<div>\n",
       "<style scoped>\n",
       "    .dataframe tbody tr th:only-of-type {\n",
       "        vertical-align: middle;\n",
       "    }\n",
       "\n",
       "    .dataframe tbody tr th {\n",
       "        vertical-align: top;\n",
       "    }\n",
       "\n",
       "    .dataframe thead th {\n",
       "        text-align: right;\n",
       "    }\n",
       "</style>\n",
       "<table border=\"1\" class=\"dataframe\">\n",
       "  <thead>\n",
       "    <tr style=\"text-align: right;\">\n",
       "      <th></th>\n",
       "      <th>_ID</th>\n",
       "      <th>TimeSt</th>\n",
       "      <th>Country</th>\n",
       "      <th>Province</th>\n",
       "      <th>City</th>\n",
       "      <th>Latitude</th>\n",
       "      <th>Longitude</th>\n",
       "    </tr>\n",
       "  </thead>\n",
       "  <tbody>\n",
       "    <tr>\n",
       "      <th>0</th>\n",
       "      <td>4516516</td>\n",
       "      <td>2017-06-21 00:00:00.143</td>\n",
       "      <td>CA</td>\n",
       "      <td>ON</td>\n",
       "      <td>Waterloo</td>\n",
       "      <td>43.49347</td>\n",
       "      <td>-80.49123</td>\n",
       "    </tr>\n",
       "    <tr>\n",
       "      <th>1</th>\n",
       "      <td>4516547</td>\n",
       "      <td>2017-06-21 18:00:00.193</td>\n",
       "      <td>CA</td>\n",
       "      <td>ON</td>\n",
       "      <td>London</td>\n",
       "      <td>42.93990</td>\n",
       "      <td>-81.27090</td>\n",
       "    </tr>\n",
       "    <tr>\n",
       "      <th>2</th>\n",
       "      <td>4516550</td>\n",
       "      <td>2017-06-21 15:00:00.287</td>\n",
       "      <td>CA</td>\n",
       "      <td>ON</td>\n",
       "      <td>Guelph</td>\n",
       "      <td>43.57760</td>\n",
       "      <td>-80.22010</td>\n",
       "    </tr>\n",
       "    <tr>\n",
       "      <th>3</th>\n",
       "      <td>4516600</td>\n",
       "      <td>2017-06-21 15:00:00.307</td>\n",
       "      <td>CA</td>\n",
       "      <td>ON</td>\n",
       "      <td>Stratford</td>\n",
       "      <td>43.37160</td>\n",
       "      <td>-80.97730</td>\n",
       "    </tr>\n",
       "    <tr>\n",
       "      <th>4</th>\n",
       "      <td>4516613</td>\n",
       "      <td>2017-06-21 15:00:00.497</td>\n",
       "      <td>CA</td>\n",
       "      <td>ON</td>\n",
       "      <td>Stratford</td>\n",
       "      <td>43.37160</td>\n",
       "      <td>-80.97730</td>\n",
       "    </tr>\n",
       "  </tbody>\n",
       "</table>\n",
       "</div>"
      ],
      "text/plain": [
       "       _ID                   TimeSt Country Province       City  Latitude  \\\n",
       "0  4516516  2017-06-21 00:00:00.143      CA       ON   Waterloo  43.49347   \n",
       "1  4516547  2017-06-21 18:00:00.193      CA       ON     London  42.93990   \n",
       "2  4516550  2017-06-21 15:00:00.287      CA       ON     Guelph  43.57760   \n",
       "3  4516600  2017-06-21 15:00:00.307      CA       ON  Stratford  43.37160   \n",
       "4  4516613  2017-06-21 15:00:00.497      CA       ON  Stratford  43.37160   \n",
       "\n",
       "   Longitude  \n",
       "0  -80.49123  \n",
       "1  -81.27090  \n",
       "2  -80.22010  \n",
       "3  -80.97730  \n",
       "4  -80.97730  "
      ]
     },
     "execution_count": 8,
     "metadata": {},
     "output_type": "execute_result"
    }
   ],
   "source": [
    "data_sample = pd.read_csv('C:/Users/sbadretale/Desktop/ws-data-spark-master/ws-data-spark-master/data/DataSample.csv')\n",
    "\n",
    "print('Total Number of requests: ' , data_sample.shape[0])\n",
    "\n",
    "data_sample.head(5)"
   ]
  },
  {
   "cell_type": "markdown",
   "metadata": {},
   "source": [
    "### Checking the type of each column in the request dataset.\n",
    "\n",
    "#### \"Latitude\" and \"Longitude\" are float64. \"ID\" is int64 and the rest are non-numeric columns."
   ]
  },
  {
   "cell_type": "code",
   "execution_count": 9,
   "metadata": {
    "colab": {
     "autoexec": {
      "startup": false,
      "wait_interval": 0
     },
     "base_uri": "https://localhost:8080/",
     "height": 153
    },
    "colab_type": "code",
    "executionInfo": {
     "elapsed": 302,
     "status": "ok",
     "timestamp": 1529282981821,
     "user": {
      "displayName": "Omid Badr",
      "photoUrl": "https://lh3.googleusercontent.com/a/default-user=s128",
      "userId": "113638071916601593157"
     },
     "user_tz": 240
    },
    "id": "VIubIpxbImu1",
    "outputId": "e2e44dc8-4303-41e1-a597-f85003729093"
   },
   "outputs": [
    {
     "data": {
      "text/plain": [
       "_ID            int64\n",
       " TimeSt       object\n",
       "Country       object\n",
       "Province      object\n",
       "City          object\n",
       "Latitude     float64\n",
       "Longitude    float64\n",
       "dtype: object"
      ]
     },
     "execution_count": 9,
     "metadata": {},
     "output_type": "execute_result"
    }
   ],
   "source": [
    "data_sample.dtypes"
   ]
  },
  {
   "cell_type": "markdown",
   "metadata": {},
   "source": [
    "### Checking to see if Latitude is in the range of (-90, 90) and Longitude is in the range of (-180, 180) to detect outliers.   --> Answer is Yes\n",
    "\n",
    "#### Latitude is in the range of (6.92742 , 62.8273) and Longitude is in (-136.53957 , 125.7022). "
   ]
  },
  {
   "cell_type": "code",
   "execution_count": 10,
   "metadata": {},
   "outputs": [
    {
     "data": {
      "text/html": [
       "<div>\n",
       "<style scoped>\n",
       "    .dataframe tbody tr th:only-of-type {\n",
       "        vertical-align: middle;\n",
       "    }\n",
       "\n",
       "    .dataframe tbody tr th {\n",
       "        vertical-align: top;\n",
       "    }\n",
       "\n",
       "    .dataframe thead th {\n",
       "        text-align: right;\n",
       "    }\n",
       "</style>\n",
       "<table border=\"1\" class=\"dataframe\">\n",
       "  <thead>\n",
       "    <tr style=\"text-align: right;\">\n",
       "      <th></th>\n",
       "      <th>_ID</th>\n",
       "      <th>Latitude</th>\n",
       "      <th>Longitude</th>\n",
       "    </tr>\n",
       "  </thead>\n",
       "  <tbody>\n",
       "    <tr>\n",
       "      <th>count</th>\n",
       "      <td>2.202500e+04</td>\n",
       "      <td>22025.000000</td>\n",
       "      <td>22025.000000</td>\n",
       "    </tr>\n",
       "    <tr>\n",
       "      <th>mean</th>\n",
       "      <td>5.067292e+06</td>\n",
       "      <td>47.983484</td>\n",
       "      <td>-94.967281</td>\n",
       "    </tr>\n",
       "    <tr>\n",
       "      <th>std</th>\n",
       "      <td>3.175577e+05</td>\n",
       "      <td>4.165093</td>\n",
       "      <td>19.092001</td>\n",
       "    </tr>\n",
       "    <tr>\n",
       "      <th>min</th>\n",
       "      <td>4.516516e+06</td>\n",
       "      <td>6.927420</td>\n",
       "      <td>-136.539570</td>\n",
       "    </tr>\n",
       "    <tr>\n",
       "      <th>25%</th>\n",
       "      <td>4.792159e+06</td>\n",
       "      <td>43.747600</td>\n",
       "      <td>-113.814000</td>\n",
       "    </tr>\n",
       "    <tr>\n",
       "      <th>50%</th>\n",
       "      <td>5.067906e+06</td>\n",
       "      <td>47.798700</td>\n",
       "      <td>-83.018000</td>\n",
       "    </tr>\n",
       "    <tr>\n",
       "      <th>75%</th>\n",
       "      <td>5.342586e+06</td>\n",
       "      <td>51.128560</td>\n",
       "      <td>-79.399100</td>\n",
       "    </tr>\n",
       "    <tr>\n",
       "      <th>max</th>\n",
       "      <td>5.615006e+06</td>\n",
       "      <td>62.827300</td>\n",
       "      <td>125.702200</td>\n",
       "    </tr>\n",
       "  </tbody>\n",
       "</table>\n",
       "</div>"
      ],
      "text/plain": [
       "                _ID      Latitude     Longitude\n",
       "count  2.202500e+04  22025.000000  22025.000000\n",
       "mean   5.067292e+06     47.983484    -94.967281\n",
       "std    3.175577e+05      4.165093     19.092001\n",
       "min    4.516516e+06      6.927420   -136.539570\n",
       "25%    4.792159e+06     43.747600   -113.814000\n",
       "50%    5.067906e+06     47.798700    -83.018000\n",
       "75%    5.342586e+06     51.128560    -79.399100\n",
       "max    5.615006e+06     62.827300    125.702200"
      ]
     },
     "execution_count": 10,
     "metadata": {},
     "output_type": "execute_result"
    }
   ],
   "source": [
    "data_sample.describe()"
   ]
  },
  {
   "cell_type": "markdown",
   "metadata": {},
   "source": [
    "### Renaming the column \"TimeSt\" to remove the space"
   ]
  },
  {
   "cell_type": "code",
   "execution_count": 11,
   "metadata": {
    "colab": {
     "autoexec": {
      "startup": false,
      "wait_interval": 0
     },
     "base_uri": "https://localhost:8080/",
     "height": 204
    },
    "colab_type": "code",
    "executionInfo": {
     "elapsed": 344,
     "status": "ok",
     "timestamp": 1529282984869,
     "user": {
      "displayName": "Omid Badr",
      "photoUrl": "https://lh3.googleusercontent.com/a/default-user=s128",
      "userId": "113638071916601593157"
     },
     "user_tz": 240
    },
    "id": "jzyP-qgOHKBc",
    "outputId": "9a90d577-d71b-4adf-930e-02d83b4dffdb"
   },
   "outputs": [
    {
     "data": {
      "text/html": [
       "<div>\n",
       "<style scoped>\n",
       "    .dataframe tbody tr th:only-of-type {\n",
       "        vertical-align: middle;\n",
       "    }\n",
       "\n",
       "    .dataframe tbody tr th {\n",
       "        vertical-align: top;\n",
       "    }\n",
       "\n",
       "    .dataframe thead th {\n",
       "        text-align: right;\n",
       "    }\n",
       "</style>\n",
       "<table border=\"1\" class=\"dataframe\">\n",
       "  <thead>\n",
       "    <tr style=\"text-align: right;\">\n",
       "      <th></th>\n",
       "      <th>_ID</th>\n",
       "      <th>TimeSt</th>\n",
       "      <th>Country</th>\n",
       "      <th>Province</th>\n",
       "      <th>City</th>\n",
       "      <th>Latitude</th>\n",
       "      <th>Longitude</th>\n",
       "    </tr>\n",
       "  </thead>\n",
       "  <tbody>\n",
       "    <tr>\n",
       "      <th>0</th>\n",
       "      <td>4516516</td>\n",
       "      <td>2017-06-21 00:00:00.143</td>\n",
       "      <td>CA</td>\n",
       "      <td>ON</td>\n",
       "      <td>Waterloo</td>\n",
       "      <td>43.49347</td>\n",
       "      <td>-80.49123</td>\n",
       "    </tr>\n",
       "    <tr>\n",
       "      <th>1</th>\n",
       "      <td>4516547</td>\n",
       "      <td>2017-06-21 18:00:00.193</td>\n",
       "      <td>CA</td>\n",
       "      <td>ON</td>\n",
       "      <td>London</td>\n",
       "      <td>42.93990</td>\n",
       "      <td>-81.27090</td>\n",
       "    </tr>\n",
       "    <tr>\n",
       "      <th>2</th>\n",
       "      <td>4516550</td>\n",
       "      <td>2017-06-21 15:00:00.287</td>\n",
       "      <td>CA</td>\n",
       "      <td>ON</td>\n",
       "      <td>Guelph</td>\n",
       "      <td>43.57760</td>\n",
       "      <td>-80.22010</td>\n",
       "    </tr>\n",
       "    <tr>\n",
       "      <th>3</th>\n",
       "      <td>4516600</td>\n",
       "      <td>2017-06-21 15:00:00.307</td>\n",
       "      <td>CA</td>\n",
       "      <td>ON</td>\n",
       "      <td>Stratford</td>\n",
       "      <td>43.37160</td>\n",
       "      <td>-80.97730</td>\n",
       "    </tr>\n",
       "    <tr>\n",
       "      <th>4</th>\n",
       "      <td>4516613</td>\n",
       "      <td>2017-06-21 15:00:00.497</td>\n",
       "      <td>CA</td>\n",
       "      <td>ON</td>\n",
       "      <td>Stratford</td>\n",
       "      <td>43.37160</td>\n",
       "      <td>-80.97730</td>\n",
       "    </tr>\n",
       "  </tbody>\n",
       "</table>\n",
       "</div>"
      ],
      "text/plain": [
       "       _ID                   TimeSt Country Province       City  Latitude  \\\n",
       "0  4516516  2017-06-21 00:00:00.143      CA       ON   Waterloo  43.49347   \n",
       "1  4516547  2017-06-21 18:00:00.193      CA       ON     London  42.93990   \n",
       "2  4516550  2017-06-21 15:00:00.287      CA       ON     Guelph  43.57760   \n",
       "3  4516600  2017-06-21 15:00:00.307      CA       ON  Stratford  43.37160   \n",
       "4  4516613  2017-06-21 15:00:00.497      CA       ON  Stratford  43.37160   \n",
       "\n",
       "   Longitude  \n",
       "0  -80.49123  \n",
       "1  -81.27090  \n",
       "2  -80.22010  \n",
       "3  -80.97730  \n",
       "4  -80.97730  "
      ]
     },
     "execution_count": 11,
     "metadata": {},
     "output_type": "execute_result"
    }
   ],
   "source": [
    "data_sample = data_sample.rename(index=str, columns={\" TimeSt\": \"TimeSt\"})\n",
    "data_sample.head(5)"
   ]
  },
  {
   "cell_type": "markdown",
   "metadata": {
    "colab": {
     "autoexec": {
      "startup": false,
      "wait_interval": 0
     }
    },
    "colab_type": "code",
    "id": "VBsrwklwMdRL"
   },
   "source": [
    "##  0.  Cleanup : FInding duplicates in geoinfo and timest\n",
    "\n",
    "### I added the last column 'Location_index' to locate the duplicated column in the request dataset ( e.g. ID12 and ID7 are duplicates.) \n",
    "\n",
    "### Number of duplicate requests: 2026"
   ]
  },
  {
   "cell_type": "code",
   "execution_count": 12,
   "metadata": {
    "colab": {
     "autoexec": {
      "startup": false,
      "wait_interval": 0
     },
     "base_uri": "https://localhost:8080/",
     "height": 323
    },
    "colab_type": "code",
    "executionInfo": {
     "elapsed": 11851,
     "status": "ok",
     "timestamp": 1529283000973,
     "user": {
      "displayName": "Omid Badr",
      "photoUrl": "https://lh3.googleusercontent.com/a/default-user=s128",
      "userId": "113638071916601593157"
     },
     "user_tz": 240
    },
    "id": "_Y9HCCw4KL2f",
    "outputId": "2de56720-cf9b-4c46-c630-576a4c2a23d1"
   },
   "outputs": [
    {
     "name": "stdout",
     "output_type": "stream",
     "text": [
      "Number of duplicates: 2026\n"
     ]
    },
    {
     "name": "stderr",
     "output_type": "stream",
     "text": [
      "C:\\ProgramData\\Anaconda3\\lib\\site-packages\\ipykernel_launcher.py:3: SettingWithCopyWarning: \n",
      "A value is trying to be set on a copy of a slice from a DataFrame.\n",
      "Try using .loc[row_indexer,col_indexer] = value instead\n",
      "\n",
      "See the caveats in the documentation: http://pandas.pydata.org/pandas-docs/stable/indexing.html#indexing-view-versus-copy\n",
      "  This is separate from the ipykernel package so we can avoid doing imports until\n"
     ]
    },
    {
     "data": {
      "text/html": [
       "<div>\n",
       "<style scoped>\n",
       "    .dataframe tbody tr th:only-of-type {\n",
       "        vertical-align: middle;\n",
       "    }\n",
       "\n",
       "    .dataframe tbody tr th {\n",
       "        vertical-align: top;\n",
       "    }\n",
       "\n",
       "    .dataframe thead th {\n",
       "        text-align: right;\n",
       "    }\n",
       "</style>\n",
       "<table border=\"1\" class=\"dataframe\">\n",
       "  <thead>\n",
       "    <tr style=\"text-align: right;\">\n",
       "      <th></th>\n",
       "      <th>_ID</th>\n",
       "      <th>TimeSt</th>\n",
       "      <th>Country</th>\n",
       "      <th>Province</th>\n",
       "      <th>City</th>\n",
       "      <th>Latitude</th>\n",
       "      <th>Longitude</th>\n",
       "      <th>Location_index</th>\n",
       "    </tr>\n",
       "  </thead>\n",
       "  <tbody>\n",
       "    <tr>\n",
       "      <th>12</th>\n",
       "      <td>4517047</td>\n",
       "      <td>2017-06-21 12:00:00.950</td>\n",
       "      <td>CA</td>\n",
       "      <td>ON</td>\n",
       "      <td>London</td>\n",
       "      <td>43.00910</td>\n",
       "      <td>-81.17650</td>\n",
       "      <td>7</td>\n",
       "    </tr>\n",
       "    <tr>\n",
       "      <th>19</th>\n",
       "      <td>4517347</td>\n",
       "      <td>2017-06-21 03:00:00.287</td>\n",
       "      <td>CA</td>\n",
       "      <td>ON</td>\n",
       "      <td>Windsor</td>\n",
       "      <td>42.29570</td>\n",
       "      <td>-82.95990</td>\n",
       "      <td>17</td>\n",
       "    </tr>\n",
       "    <tr>\n",
       "      <th>37</th>\n",
       "      <td>4518179</td>\n",
       "      <td>2017-06-21 08:00:00.663</td>\n",
       "      <td>CA</td>\n",
       "      <td>ON</td>\n",
       "      <td>Kitchener</td>\n",
       "      <td>43.46760</td>\n",
       "      <td>-80.48470</td>\n",
       "      <td>32</td>\n",
       "    </tr>\n",
       "    <tr>\n",
       "      <th>56</th>\n",
       "      <td>4519066</td>\n",
       "      <td>2017-06-21 07:00:00.747</td>\n",
       "      <td>CA</td>\n",
       "      <td>ON</td>\n",
       "      <td>Tillsonburg</td>\n",
       "      <td>42.86185</td>\n",
       "      <td>-80.72991</td>\n",
       "      <td>54</td>\n",
       "    </tr>\n",
       "    <tr>\n",
       "      <th>77</th>\n",
       "      <td>4520202</td>\n",
       "      <td>2017-06-21 17:00:02.433</td>\n",
       "      <td>CA</td>\n",
       "      <td>ON</td>\n",
       "      <td>Windsor</td>\n",
       "      <td>42.26540</td>\n",
       "      <td>-83.02610</td>\n",
       "      <td>73</td>\n",
       "    </tr>\n",
       "  </tbody>\n",
       "</table>\n",
       "</div>"
      ],
      "text/plain": [
       "        _ID                   TimeSt Country Province         City  Latitude  \\\n",
       "12  4517047  2017-06-21 12:00:00.950      CA       ON       London  43.00910   \n",
       "19  4517347  2017-06-21 03:00:00.287      CA       ON      Windsor  42.29570   \n",
       "37  4518179  2017-06-21 08:00:00.663      CA       ON    Kitchener  43.46760   \n",
       "56  4519066  2017-06-21 07:00:00.747      CA       ON  Tillsonburg  42.86185   \n",
       "77  4520202  2017-06-21 17:00:02.433      CA       ON      Windsor  42.26540   \n",
       "\n",
       "    Longitude Location_index  \n",
       "12  -81.17650              7  \n",
       "19  -82.95990             17  \n",
       "37  -80.48470             32  \n",
       "56  -80.72991             54  \n",
       "77  -83.02610             73  "
      ]
     },
     "execution_count": 12,
     "metadata": {},
     "output_type": "execute_result"
    }
   ],
   "source": [
    "## Checking for duplicates in time and location columns \n",
    "data_sample_tmp = data_sample [:]\n",
    "data_sample_tmp['Location_index'] = data_sample_tmp.groupby(['TimeSt','Latitude','Longitude']).transform('idxmin') \n",
    "data_sample_duplicate = data_sample_tmp[data_sample_tmp.duplicated(subset=['TimeSt' , 'Latitude' , 'Longitude'], keep='first')]\n",
    "print('Number of duplicates:' ,data_sample_duplicate.shape[0])\n",
    "data_sample_duplicate.head(5)"
   ]
  },
  {
   "cell_type": "markdown",
   "metadata": {},
   "source": [
    "### Creating a dataset \"data_no_duplicate\" for non-duplciate requests.\n",
    "\n",
    "### Number of non-duplicate requests is 19999."
   ]
  },
  {
   "cell_type": "code",
   "execution_count": 27,
   "metadata": {
    "colab": {
     "autoexec": {
      "startup": false,
      "wait_interval": 0
     },
     "base_uri": "https://localhost:8080/",
     "height": 34
    },
    "colab_type": "code",
    "executionInfo": {
     "elapsed": 371,
     "status": "ok",
     "timestamp": 1529283006758,
     "user": {
      "displayName": "Omid Badr",
      "photoUrl": "https://lh3.googleusercontent.com/a/default-user=s128",
      "userId": "113638071916601593157"
     },
     "user_tz": 240
    },
    "id": "xd_WIkN1LPA9",
    "outputId": "1975a9ff-1488-46f2-bb31-fb76fea1c57a"
   },
   "outputs": [
    {
     "name": "stdout",
     "output_type": "stream",
     "text": [
      "Number of non-duplicates: 19999\n"
     ]
    }
   ],
   "source": [
    "duplicate_bool = data_sample.duplicated(subset=['TimeSt','Latitude','Longitude'], keep='first')\n",
    "data_no_duplicate = data_sample.loc[duplicate_bool == False]\n",
    "print('Number of non-duplicates:' , data_no_duplicate.shape[0]) "
   ]
  },
  {
   "cell_type": "markdown",
   "metadata": {
    "colab": {
     "autoexec": {
      "startup": false,
      "wait_interval": 0
     },
     "base_uri": "https://localhost:8080/",
     "height": 204
    },
    "colab_type": "code",
    "executionInfo": {
     "elapsed": 680,
     "status": "ok",
     "timestamp": 1529283012021,
     "user": {
      "displayName": "Omid Badr",
      "photoUrl": "https://lh3.googleusercontent.com/a/default-user=s128",
      "userId": "113638071916601593157"
     },
     "user_tz": 240
    },
    "id": "wbY3oH1jGEpW",
    "outputId": "c7069c76-3b2b-44f1-de97-0b93275820eb"
   },
   "source": [
    "#### ## Checking for Null values in request datasets --> No Null values."
   ]
  },
  {
   "cell_type": "code",
   "execution_count": 15,
   "metadata": {
    "colab": {
     "autoexec": {
      "startup": false,
      "wait_interval": 0
     },
     "base_uri": "https://localhost:8080/",
     "height": 34
    },
    "colab_type": "code",
    "executionInfo": {
     "elapsed": 355,
     "status": "ok",
     "timestamp": 1529283014856,
     "user": {
      "displayName": "Omid Badr",
      "photoUrl": "https://lh3.googleusercontent.com/a/default-user=s128",
      "userId": "113638071916601593157"
     },
     "user_tz": 240
    },
    "id": "XLIdbWttLBls",
    "outputId": "d9b480cf-49f6-4963-9b17-daaa255de7c0"
   },
   "outputs": [
    {
     "data": {
      "text/plain": [
       "False"
      ]
     },
     "execution_count": 15,
     "metadata": {},
     "output_type": "execute_result"
    }
   ],
   "source": [
    "data_sample.isnull().values.any()"
   ]
  },
  {
   "cell_type": "markdown",
   "metadata": {},
   "source": [
    "# 1. Label: assign each request to one of the POI locations that has minimum distance to the request location.\n",
    "\n",
    "### I used the Euclidean function in scipy to find the distance between requests and POI locations. "
   ]
  },
  {
   "cell_type": "code",
   "execution_count": 16,
   "metadata": {
    "colab": {
     "autoexec": {
      "startup": false,
      "wait_interval": 0
     },
     "base_uri": "https://localhost:8080/",
     "height": 119
    },
    "colab_type": "code",
    "executionInfo": {
     "elapsed": 11795,
     "status": "ok",
     "timestamp": 1529283029837,
     "user": {
      "displayName": "Omid Badr",
      "photoUrl": "https://lh3.googleusercontent.com/a/default-user=s128",
      "userId": "113638071916601593157"
     },
     "user_tz": 240
    },
    "id": "kh8tUS54LBid",
    "outputId": "4d06a438-e73c-4be6-86b4-d2043fc9fa68"
   },
   "outputs": [
    {
     "name": "stderr",
     "output_type": "stream",
     "text": [
      "C:\\ProgramData\\Anaconda3\\lib\\site-packages\\ipykernel_launcher.py:11: SettingWithCopyWarning: \n",
      "A value is trying to be set on a copy of a slice from a DataFrame.\n",
      "Try using .loc[row_indexer,col_indexer] = value instead\n",
      "\n",
      "See the caveats in the documentation: http://pandas.pydata.org/pandas-docs/stable/indexing.html#indexing-view-versus-copy\n",
      "  # This is added back by InteractiveShellApp.init_path()\n"
     ]
    }
   ],
   "source": [
    "Label = []\n",
    "dist = []\n",
    "for i in range(data_no_duplicate.shape[0]):\n",
    "  for j in range(4):\n",
    "    points_smaple = [data_no_duplicate.Latitude[i],data_no_duplicate.Longitude[i]]  # find the Latitude and Longitude in request\n",
    "    points_POI = [data_POI.Latitude[j],data_POI.Longitude[j]]   # find the Latitude and Longitude in POI locations for 4 coulmns\n",
    "    dist.append(distance.euclidean(points_smaple , points_POI))  # Calculate the Eucledean distance between two points \n",
    "  Label.append(dist.index(min(dist)))  # Find the index of the Min distance\n",
    "  dist = []\n",
    "  \n",
    "data_no_duplicate['Label'] = Label"
   ]
  },
  {
   "cell_type": "markdown",
   "metadata": {},
   "source": [
    "### Counting the label distribution\n",
    "\n",
    "### Since POI1 and POI2 are identical, POI2 location is empty and all the requests for these two locations are in POI1. \n",
    "\n",
    "#### Based on the result, %48.5 of requests belong to POI1, %49 of requests are in POI3, and %2.5 are in POI4. "
   ]
  },
  {
   "cell_type": "code",
   "execution_count": 17,
   "metadata": {
    "colab": {
     "autoexec": {
      "startup": false,
      "wait_interval": 0
     },
     "base_uri": "https://localhost:8080/",
     "height": 153
    },
    "colab_type": "code",
    "executionInfo": {
     "elapsed": 348,
     "status": "ok",
     "timestamp": 1529296071281,
     "user": {
      "displayName": "Omid Badr",
      "photoUrl": "https://lh3.googleusercontent.com/a/default-user=s128",
      "userId": "113638071916601593157"
     },
     "user_tz": 240
    },
    "id": "fJ48T2rKQTSM",
    "outputId": "6d9ec956-7d4c-4c7a-fcdb-3ce0ca7c7028"
   },
   "outputs": [
    {
     "name": "stdout",
     "output_type": "stream",
     "text": [
      "% of POI location 1 requests       : 48.49242462123106\n",
      "Number of POI location 1  requests    : 9698\n",
      "% of POI location 2 requests         : 0.0\n",
      "Number of POI location 2 requests   : 0\n",
      "% of POI location 3 requests         : 49.08745437271864\n",
      "Number of POI location 3 requests   : 9817\n",
      "% of POI location 4 requests        : 2.4201210060503024\n",
      "Number of POI location 4 requests   : 484\n"
     ]
    }
   ],
   "source": [
    "# Counting the label distribution\n",
    "\n",
    "POI_Location_1 = len(data_no_duplicate[data_no_duplicate['Label']==0])\n",
    "POI_Location_2 = len(data_no_duplicate[data_no_duplicate['Label']==1])\n",
    "POI_Location_3 = len(data_no_duplicate[data_no_duplicate['Label']==2])\n",
    "POI_Location_4 = len(data_no_duplicate[data_no_duplicate['Label']==3])\n",
    "total = POI_Location_1 + POI_Location_2 + POI_Location_3 + POI_Location_4\n",
    "\n",
    "Percentage_of_POI_Location_1 = POI_Location_1/total\n",
    "print('% of POI location 1 requests       :', Percentage_of_POI_Location_1*100)\n",
    "print('Number of POI location 1  requests    :', POI_Location_1)\n",
    "\n",
    "Percentage_of_POI_Location_2 = POI_Location_2/total\n",
    "print('% of POI location 2 requests         :', Percentage_of_POI_Location_2*100)\n",
    "print('Number of POI location 2 requests   :', POI_Location_2)\n",
    "\n",
    "Percentage_of_POI_Location_3 = POI_Location_3/total\n",
    "print('% of POI location 3 requests         :', Percentage_of_POI_Location_3*100)\n",
    "print('Number of POI location 3 requests   :', POI_Location_3)\n",
    "\n",
    "Percentage_of_POI_Location_4 = POI_Location_4/total\n",
    "print('% of POI location 4 requests        :', Percentage_of_POI_Location_4*100)\n",
    "print('Number of POI location 4 requests   :', POI_Location_4)"
   ]
  },
  {
   "cell_type": "markdown",
   "metadata": {},
   "source": [
    "### Histogram of the POI locations\n",
    "\n",
    "#### Class0 :  POI1  ,   Class1 :  POI3  ,   Class2 :  POI4"
   ]
  },
  {
   "cell_type": "code",
   "execution_count": 18,
   "metadata": {
    "colab": {
     "autoexec": {
      "startup": false,
      "wait_interval": 0
     },
     "base_uri": "https://localhost:8080/",
     "height": 389
    },
    "colab_type": "code",
    "executionInfo": {
     "elapsed": 701,
     "status": "ok",
     "timestamp": 1529283911296,
     "user": {
      "displayName": "Omid Badr",
      "photoUrl": "https://lh3.googleusercontent.com/a/default-user=s128",
      "userId": "113638071916601593157"
     },
     "user_tz": 240
    },
    "id": "BWSCk662QTd1",
    "outputId": "dace8762-5063-405f-9f05-6e622ef8efce"
   },
   "outputs": [
    {
     "data": {
      "text/plain": [
       "Text(0,0.5,'Frequency')"
      ]
     },
     "execution_count": 18,
     "metadata": {},
     "output_type": "execute_result"
    },
    {
     "data": {
      "image/png": "[encoded data removed]",
      "text/plain": [
       "<Figure size 432x288 with 1 Axes>"
      ]
     },
     "metadata": {},
     "output_type": "display_data"
    }
   ],
   "source": [
    "count_classes = pd.value_counts(data_no_duplicate['Label'], sort = True).sort_index()\n",
    "count_classes.plot(kind = 'bar')\n",
    "plt.title(\"POI locations histogram\")\n",
    "plt.xlabel(\"Class\")\n",
    "plt.ylabel(\"Frequency\")"
   ]
  },
  {
   "cell_type": "markdown",
   "metadata": {},
   "source": [
    "### Scatterplot for each POI locaiton"
   ]
  },
  {
   "cell_type": "code",
   "execution_count": 19,
   "metadata": {
    "colab": {
     "autoexec": {
      "startup": false,
      "wait_interval": 0
     },
     "base_uri": "https://localhost:8080/",
     "height": 393
    },
    "colab_type": "code",
    "executionInfo": {
     "elapsed": 1658,
     "status": "ok",
     "timestamp": 1529286480207,
     "user": {
      "displayName": "Omid Badr",
      "photoUrl": "https://lh3.googleusercontent.com/a/default-user=s128",
      "userId": "113638071916601593157"
     },
     "user_tz": 240
    },
    "id": "i0h4LvkHQTbt",
    "outputId": "d5614aa3-cd18-4039-d8a3-4f703be6e06e"
   },
   "outputs": [
    {
     "data": {
      "text/plain": [
       "<matplotlib.colorbar.Colorbar at 0xb58ab38>"
      ]
     },
     "execution_count": 19,
     "metadata": {},
     "output_type": "execute_result"
    },
    {
     "data": {
      "image/png": "[encoded data removed]",
      "text/plain": [
       "<Figure size 1296x1152 with 2 Axes>"
      ]
     },
     "metadata": {},
     "output_type": "display_data"
    }
   ],
   "source": [
    "fig = plt.figure(figsize=(18, 16))\n",
    "ax = fig.add_subplot(111)\n",
    "scatter = ax.scatter(data_no_duplicate['Latitude'],data_no_duplicate['Longitude'],\n",
    "                     c=data_no_duplicate['Label'],cmap='viridis', s=30)\n",
    "\n",
    "plt.scatter(data_POI['Latitude'], data_POI['Longitude'], c='b', s=40, alpha=0.9);\n",
    "\n",
    "ax.set_title('POI location grouping requests')\n",
    "ax.set_xlabel('Latitude')\n",
    "ax.set_ylabel('Longitude')\n",
    "plt.colorbar(scatter)"
   ]
  },
  {
   "cell_type": "markdown",
   "metadata": {
    "colab": {
     "autoexec": {
      "startup": false,
      "wait_interval": 0
     }
    },
    "colab_type": "code",
    "id": "HkNXySafQTY_"
   },
   "source": [
    "# 2. Analysis : With respect to each POI location, calculate the average and standard deviation of distance between the POI location to each of its assigned requests.\n",
    "\n",
    "### Average Value:"
   ]
  },
  {
   "cell_type": "code",
   "execution_count": 20,
   "metadata": {
    "colab": {
     "autoexec": {
      "startup": false,
      "wait_interval": 0
     },
     "base_uri": "https://localhost:8080/",
     "height": 68
    },
    "colab_type": "code",
    "executionInfo": {
     "elapsed": 933,
     "status": "ok",
     "timestamp": 1529291009124,
     "user": {
      "displayName": "Omid Badr",
      "photoUrl": "https://lh3.googleusercontent.com/a/default-user=s128",
      "userId": "113638071916601593157"
     },
     "user_tz": 240
    },
    "id": "SRY99g0SQTWO",
    "outputId": "f156975e-dc67-44c4-b2f6-f0e176d60c54"
   },
   "outputs": [
    {
     "name": "stdout",
     "output_type": "stream",
     "text": [
      "Mean value of POI_Location_1:      [-1.6269621567335122, 0.13417244297784237]\n",
      "Mean value of POI_Location_3:      [-1.279085826932672, -5.196635388814244]\n",
      "Mean value of POI_Location_4:      [-0.19461688016530587, 6.2843858388429865]\n"
     ]
    }
   ],
   "source": [
    "tmp_data = data_no_duplicate.groupby(['Label']).mean()\n",
    "\n",
    "POI_Location_0_mean = [tmp_data.iloc[0,1] - data_POI.iloc[0,1], tmp_data.iloc[0,2] - data_POI.iloc[0,2]]\n",
    "\n",
    "print('Mean value of POI_Location_1:     ', POI_Location_0_mean)\n",
    "\n",
    "POI_Location_2_mean = [tmp_data.iloc[1,1] - data_POI.iloc[2,1], tmp_data.iloc[1,2] - data_POI.iloc[2,2]]\n",
    "\n",
    "print('Mean value of POI_Location_3:     ', POI_Location_2_mean)\n",
    "\n",
    "POI_Location_3_mean = [tmp_data.iloc[2,1] - data_POI.iloc[3,1], tmp_data.iloc[2,2] - data_POI.iloc[3,2]]\n",
    "\n",
    "print('Mean value of POI_Location_4:     ', POI_Location_3_mean)"
   ]
  },
  {
   "cell_type": "markdown",
   "metadata": {},
   "source": [
    "### Standard deviation:"
   ]
  },
  {
   "cell_type": "code",
   "execution_count": 21,
   "metadata": {
    "colab": {
     "autoexec": {
      "startup": false,
      "wait_interval": 0
     },
     "base_uri": "https://localhost:8080/",
     "height": 173
    },
    "colab_type": "code",
    "executionInfo": {
     "elapsed": 1578,
     "status": "ok",
     "timestamp": 1529291047667,
     "user": {
      "displayName": "Omid Badr",
      "photoUrl": "https://lh3.googleusercontent.com/a/default-user=s128",
      "userId": "113638071916601593157"
     },
     "user_tz": 240
    },
    "id": "1byn2OFK0LmU",
    "outputId": "ffc16654-c85c-4839-90d7-da2b042834e8"
   },
   "outputs": [
    {
     "data": {
      "text/html": [
       "<div>\n",
       "<style scoped>\n",
       "    .dataframe tbody tr th:only-of-type {\n",
       "        vertical-align: middle;\n",
       "    }\n",
       "\n",
       "    .dataframe tbody tr th {\n",
       "        vertical-align: top;\n",
       "    }\n",
       "\n",
       "    .dataframe thead th {\n",
       "        text-align: right;\n",
       "    }\n",
       "</style>\n",
       "<table border=\"1\" class=\"dataframe\">\n",
       "  <thead>\n",
       "    <tr style=\"text-align: right;\">\n",
       "      <th></th>\n",
       "      <th>_ID</th>\n",
       "      <th>Latitude</th>\n",
       "      <th>Longitude</th>\n",
       "    </tr>\n",
       "    <tr>\n",
       "      <th>Label</th>\n",
       "      <th></th>\n",
       "      <th></th>\n",
       "      <th></th>\n",
       "    </tr>\n",
       "  </thead>\n",
       "  <tbody>\n",
       "    <tr>\n",
       "      <th>0</th>\n",
       "      <td>311055.776141</td>\n",
       "      <td>1.647030</td>\n",
       "      <td>4.552080</td>\n",
       "    </tr>\n",
       "    <tr>\n",
       "      <th>2</th>\n",
       "      <td>323468.669155</td>\n",
       "      <td>1.192507</td>\n",
       "      <td>2.962779</td>\n",
       "    </tr>\n",
       "    <tr>\n",
       "      <th>3</th>\n",
       "      <td>322253.833108</td>\n",
       "      <td>5.200071</td>\n",
       "      <td>28.868550</td>\n",
       "    </tr>\n",
       "  </tbody>\n",
       "</table>\n",
       "</div>"
      ],
      "text/plain": [
       "                 _ID  Latitude  Longitude\n",
       "Label                                    \n",
       "0      311055.776141  1.647030   4.552080\n",
       "2      323468.669155  1.192507   2.962779\n",
       "3      322253.833108  5.200071  28.868550"
      ]
     },
     "execution_count": 21,
     "metadata": {},
     "output_type": "execute_result"
    }
   ],
   "source": [
    "data_no_duplicate.groupby(['Label']).std()"
   ]
  },
  {
   "cell_type": "markdown",
   "metadata": {},
   "source": [
    "# 2. Analysis : Draw circles that are centered at each of the POIs, each includes all requests assigned to the POI location. Find out the radius and density (i.e. request count/circle area) for each POI location."
   ]
  },
  {
   "cell_type": "code",
   "execution_count": 22,
   "metadata": {
    "colab": {
     "autoexec": {
      "startup": false,
      "wait_interval": 0
     }
    },
    "colab_type": "code",
    "id": "gzl54QZJzDnq"
   },
   "outputs": [],
   "source": [
    "## Separate the dataset (requests) by the value of the label (POI locations)\n",
    "\n",
    "grouped_df = data_no_duplicate.groupby(['Label'])\n",
    "\n",
    "POI_Location_0_data = grouped_df.get_group(0)\n",
    "POI_Location_2_data = grouped_df.get_group(2)\n",
    "POI_Location_3_data = grouped_df.get_group(3)"
   ]
  },
  {
   "cell_type": "code",
   "execution_count": 23,
   "metadata": {
    "colab": {
     "autoexec": {
      "startup": false,
      "wait_interval": 0
     },
     "base_uri": "https://localhost:8080/",
     "height": 34
    },
    "colab_type": "code",
    "executionInfo": {
     "elapsed": 1557,
     "status": "ok",
     "timestamp": 1529296485394,
     "user": {
      "displayName": "Omid Badr",
      "photoUrl": "https://lh3.googleusercontent.com/a/default-user=s128",
      "userId": "113638071916601593157"
     },
     "user_tz": 240
    },
    "id": "D34-VOjbBP7T",
    "outputId": "6a4057a6-9dda-4a6f-e116-f1f06a9135c2"
   },
   "outputs": [
    {
     "name": "stdout",
     "output_type": "stream",
     "text": [
      "POI Location 1 radius is:  24.851937 and density is: 2.499090  \n"
     ]
    }
   ],
   "source": [
    "radius0 = []\n",
    "for i in range(POI_Location_0_data.shape[0]):\n",
    "  points_smaple = [POI_Location_0_data.Latitude[i],POI_Location_0_data.Longitude[i]]  # find the Latitude and Longitude in sample data\n",
    "  points_POI = [data_POI.Latitude[0],data_POI.Longitude[0]]   # find the Latitude and Longitude in POI data for 4 coulmns\n",
    "  radius0.append(distance.euclidean(points_smaple , points_POI))  # Calculate the Eucledean distance between two location points \n",
    "  \n",
    "print('POI Location 1 radius is:  %f and density is: %f  ' % ( max(radius0), POI_Location_1 / (2 * pi * max(radius0)* max(radius0))))\n"
   ]
  },
  {
   "cell_type": "code",
   "execution_count": 24,
   "metadata": {
    "colab": {
     "autoexec": {
      "startup": false,
      "wait_interval": 0
     },
     "base_uri": "https://localhost:8080/",
     "height": 34
    },
    "colab_type": "code",
    "executionInfo": {
     "elapsed": 1737,
     "status": "ok",
     "timestamp": 1529296487624,
     "user": {
      "displayName": "Omid Badr",
      "photoUrl": "https://lh3.googleusercontent.com/a/default-user=s128",
      "userId": "113638071916601593157"
     },
     "user_tz": 240
    },
    "id": "cqkAFKXYJ0l7",
    "outputId": "7d7318c7-1b0f-475a-d320-8ce473057432"
   },
   "outputs": [
    {
     "name": "stdout",
     "output_type": "stream",
     "text": [
      "POI Location 3 radius is:  20.155378 and density is: 3.846069  \n"
     ]
    }
   ],
   "source": [
    "radius1 = []\n",
    "for i in range(POI_Location_2_data.shape[0]):\n",
    "  points_smaple = [POI_Location_2_data.Latitude[i],POI_Location_2_data.Longitude[i]]  # find the Latitude and Longitude in sample data\n",
    "  points_POI = [data_POI.Latitude[2],data_POI.Longitude[2]]   # find the Latitude and Longitude in POI data for 4 coulmns\n",
    "  radius1.append(distance.euclidean(points_smaple , points_POI))  # Calculate the Eucledean distance between two location points \n",
    "  \n",
    "print('POI Location 3 radius is:  %f and density is: %f  ' % ( max(radius1), POI_Location_3 / (2 * pi * max(radius1)* max(radius1))))"
   ]
  },
  {
   "cell_type": "code",
   "execution_count": 25,
   "metadata": {
    "colab": {
     "autoexec": {
      "startup": false,
      "wait_interval": 0
     },
     "base_uri": "https://localhost:8080/",
     "height": 34
    },
    "colab_type": "code",
    "executionInfo": {
     "elapsed": 502,
     "status": "ok",
     "timestamp": 1529296488840,
     "user": {
      "displayName": "Omid Badr",
      "photoUrl": "https://lh3.googleusercontent.com/a/default-user=s128",
      "userId": "113638071916601593157"
     },
     "user_tz": 240
    },
    "id": "rVvOSfVRJ0hw",
    "outputId": "d48a66c2-5132-4457-e256-4aa4619c7a05"
   },
   "outputs": [
    {
     "name": "stdout",
     "output_type": "stream",
     "text": [
      "POI Location 4 radius is:  192.704991 and density is: 0.002074  \n"
     ]
    }
   ],
   "source": [
    "radius2 = []\n",
    "for i in range(POI_Location_3_data.shape[0]):\n",
    "  points_smaple = [POI_Location_3_data.Latitude[i],POI_Location_3_data.Longitude[i]]  # find the Latitude and Longitude in sample data\n",
    "  points_POI = [data_POI.Latitude[3],data_POI.Longitude[3]]   # find the Latitude and Longitude in POI data for 4 coulmns\n",
    "  radius2.append(distance.euclidean(points_smaple , points_POI))  # Calculate the Eucledean distance between two location points \n",
    "  \n",
    "print('POI Location 4 radius is:  %f and density is: %f  ' % ( max(radius2), POI_Location_4 / (2 * pi * max(radius2)* max(radius2))))"
   ]
  },
  {
   "cell_type": "markdown",
   "metadata": {},
   "source": [
    "### Since in POI 4, radius = 192 so the corresponding circle is quite large. ( I will deal with this as outliers in bonus part)"
   ]
  },
  {
   "cell_type": "code",
   "execution_count": 26,
   "metadata": {
    "colab": {
     "autoexec": {
      "startup": false,
      "wait_interval": 0
     },
     "base_uri": "https://localhost:8080/",
     "height": 393
    },
    "colab_type": "code",
    "executionInfo": {
     "elapsed": 1495,
     "status": "ok",
     "timestamp": 1529296835024,
     "user": {
      "displayName": "Omid Badr",
      "photoUrl": "https://lh3.googleusercontent.com/a/default-user=s128",
      "userId": "113638071916601593157"
     },
     "user_tz": 240
    },
    "id": "DN-8GEXnKyRo",
    "outputId": "a98dfa78-19be-4e16-af3f-32f410994da8"
   },
   "outputs": [
    {
     "name": "stderr",
     "output_type": "stream",
     "text": [
      "C:\\ProgramData\\Anaconda3\\lib\\site-packages\\matplotlib\\patches.py:83: UserWarning: Setting the 'color' property will overridethe edgecolor or facecolor properties. \n",
      "  warnings.warn(\"Setting the 'color' property will override\"\n"
     ]
    },
    {
     "data": {
      "text/plain": [
       "<matplotlib.colorbar.Colorbar at 0xbdb2ac8>"
      ]
     },
     "execution_count": 26,
     "metadata": {},
     "output_type": "execute_result"
    },
    {
     "data": {
      "image/png": "[encoded data removed]",
      "text/plain": [
       "<Figure size 1296x1152 with 2 Axes>"
      ]
     },
     "metadata": {},
     "output_type": "display_data"
    }
   ],
   "source": [
    "circle1 = plt.Circle((data_POI.Latitude[0],data_POI.Longitude[0]), max(radius0),  color='r', alpha=0.3, edgecolor='none')\n",
    "circle2 = plt.Circle((data_POI.Latitude[2],data_POI.Longitude[2]), max(radius1),  color='g', alpha=0.3, edgecolor='none')\n",
    "circle3 = plt.Circle((data_POI.Latitude[3],data_POI.Longitude[3]), max(radius2),  color='y', alpha=0.3, edgecolor='none')\n",
    "\n",
    "fig = plt.figure(figsize=(18, 16))\n",
    "ax = fig.add_subplot(111)\n",
    "scatter = ax.scatter(data_no_duplicate['Latitude'],data_no_duplicate['Longitude'],\n",
    "                     c=data_no_duplicate['Label'],cmap='viridis', s=30)\n",
    "\n",
    "plt.scatter(data_POI['Latitude'], data_POI['Longitude'], c='b', s=40, alpha=0.9);\n",
    "ax.add_artist(circle1)\n",
    "ax.add_artist(circle2)\n",
    "ax.add_artist(circle3)\n",
    "\n",
    "ax.set_title('POI location grouping requests')\n",
    "ax.set_xlabel('Latitude')\n",
    "ax.set_ylabel('Longitude')\n",
    "plt.colorbar(scatter)"
   ]
  },
  {
   "cell_type": "markdown",
   "metadata": {
    "colab": {
     "autoexec": {
      "startup": false,
      "wait_interval": 0
     }
    },
    "colab_type": "code",
    "id": "VM660ABVKyiQ"
   },
   "source": [
    "# 3. Model (Bonus)\n",
    "\n",
    "## Since POI location4 has a radius of 192 and only consists of %2.5 of total requests, we can consider some points as outliers. We can detect the outliers with interquantile values: \n",
    "\n",
    "### If  IQR=Q3-Q1,  then values in the range of ( -inf, Q1-1.5 × IQR ) and ( Q3+1.5 × IQR, inf) can be considered as outliers.  "
   ]
  },
  {
   "cell_type": "code",
   "execution_count": 28,
   "metadata": {
    "colab": {
     "autoexec": {
      "startup": false,
      "wait_interval": 0
     },
     "base_uri": "https://localhost:8080/",
     "height": 34
    },
    "colab_type": "code",
    "executionInfo": {
     "elapsed": 2114,
     "status": "ok",
     "timestamp": 1529294274710,
     "user": {
      "displayName": "Omid Badr",
      "photoUrl": "https://lh3.googleusercontent.com/a/default-user=s128",
      "userId": "113638071916601593157"
     },
     "user_tz": 240
    },
    "id": "rfuEm3c0CKma",
    "outputId": "c4c785ca-be6b-4c94-9bae-a7d646114325"
   },
   "outputs": [],
   "source": [
    "## apply the interquartile on the Request dataset, and then find the label (POI Locations) for each request\n",
    "data_sample.shape\n",
    "cols = ['Latitude','Longitude']"
   ]
  },
  {
   "cell_type": "markdown",
   "metadata": {},
   "source": [
    "### 14 requests in Latitude are considered as outliers"
   ]
  },
  {
   "cell_type": "code",
   "execution_count": 38,
   "metadata": {
    "colab": {
     "autoexec": {
      "startup": false,
      "wait_interval": 0
     },
     "base_uri": "https://localhost:8080/",
     "height": 34
    },
    "colab_type": "code",
    "executionInfo": {
     "elapsed": 332,
     "status": "ok",
     "timestamp": 1529294328623,
     "user": {
      "displayName": "Omid Badr",
      "photoUrl": "https://lh3.googleusercontent.com/a/default-user=s128",
      "userId": "113638071916601593157"
     },
     "user_tz": 240
    },
    "id": "_OPXc5F9CKi5",
    "outputId": "9e35f7ab-c02b-4873-f4b2-c3423effdd0f"
   },
   "outputs": [
    {
     "name": "stdout",
     "output_type": "stream",
     "text": [
      "Number of outliers found in column Latitude:  14\n"
     ]
    }
   ],
   "source": [
    "# Computing IQR for latitute \n",
    "data_sample2  = data_no_duplicate[cols]\n",
    "Q1 = data_sample2['Latitude'].quantile(0.25)\n",
    "Q3 = data_sample2['Latitude'].quantile(0.75)\n",
    "IQR = Q3 - Q1\n",
    "\n",
    "# Filtering Values between Q1-1.5IQR and Q3+1.5IQR\n",
    "data_sample2 = data_sample2.query('(@Q1 - 1.5 * @IQR) <= Latitude <= (@Q3 + 1.5 * @IQR)')\n",
    "print('Number of outliers found in column Latitude: ' , data_no_duplicate.shape[0] - data_sample2.shape[0])"
   ]
  },
  {
   "cell_type": "markdown",
   "metadata": {},
   "source": [
    "### 26 requests in Longitude are considered as outliers"
   ]
  },
  {
   "cell_type": "code",
   "execution_count": 39,
   "metadata": {
    "colab": {
     "autoexec": {
      "startup": false,
      "wait_interval": 0
     },
     "base_uri": "https://localhost:8080/",
     "height": 34
    },
    "colab_type": "code",
    "executionInfo": {
     "elapsed": 862,
     "status": "ok",
     "timestamp": 1529294368185,
     "user": {
      "displayName": "Omid Badr",
      "photoUrl": "https://lh3.googleusercontent.com/a/default-user=s128",
      "userId": "113638071916601593157"
     },
     "user_tz": 240
    },
    "id": "lBjHG8kqClOK",
    "outputId": "0d9f4e55-c026-41d5-f4fc-2a36698d1f52"
   },
   "outputs": [
    {
     "name": "stdout",
     "output_type": "stream",
     "text": [
      "Number of outliers found in column Longitude:  26\n"
     ]
    }
   ],
   "source": [
    "data_sample3  = data_sample2[cols]\n",
    "Q1 = data_sample3['Longitude'].quantile(0.25)\n",
    "Q3 = data_sample3['Longitude'].quantile(0.75)\n",
    "IQR = Q3 - Q1\n",
    "\n",
    "# Filtering Values between Q1-1.5IQR and Q3+1.5IQR\n",
    "data_sample3 = data_sample3.query('(@Q1 - 1.5 * @IQR) <= Longitude <= (@Q3 + 1.5 * @IQR)')\n",
    "print('Number of outliers found in column Longitude: ' , data_no_duplicate.shape[0] - data_sample3.shape[0])"
   ]
  },
  {
   "cell_type": "markdown",
   "metadata": {},
   "source": [
    "### assign each request to one of the POI locations that has minimum distance to the request location."
   ]
  },
  {
   "cell_type": "code",
   "execution_count": 40,
   "metadata": {
    "colab": {
     "autoexec": {
      "startup": false,
      "wait_interval": 0
     }
    },
    "colab_type": "code",
    "id": "-r5zPpYMClLR"
   },
   "outputs": [],
   "source": [
    "Label = []\n",
    "dist = []\n",
    "for i in range(data_sample3.shape[0]):\n",
    "  for j in range(4):\n",
    "    points_smaple = [data_sample3.Latitude[i],data_sample3.Longitude[i]]  # find the Latitude and Longitude in sample data\n",
    "    points_POI = [data_POI.Latitude[j],data_POI.Longitude[j]]   # find the Latitude and Longitude in POI data for 4 coulmns\n",
    "    dist.append(distance.euclidean(points_smaple , points_POI))  # Calculate the Eucledean distance between two location points \n",
    "  Label.append(dist.index(min(dist)))  # Find the index of the Min distance\n",
    "  dist = []\n",
    "  \n",
    "data_sample3['Label'] = Label"
   ]
  },
  {
   "cell_type": "markdown",
   "metadata": {},
   "source": [
    "### I used boxplot to visualize the detected outliers in Interquantile method."
   ]
  },
  {
   "cell_type": "code",
   "execution_count": 41,
   "metadata": {
    "colab": {
     "autoexec": {
      "startup": false,
      "wait_interval": 0
     },
     "base_uri": "https://localhost:8080/",
     "height": 364
    },
    "colab_type": "code",
    "executionInfo": {
     "elapsed": 615,
     "status": "ok",
     "timestamp": 1529295029538,
     "user": {
      "displayName": "Omid Badr",
      "photoUrl": "https://lh3.googleusercontent.com/a/default-user=s128",
      "userId": "113638071916601593157"
     },
     "user_tz": 240
    },
    "id": "XTzCgrYKFcli",
    "outputId": "06faadcb-e9da-4b5c-ee7c-c6554219c496"
   },
   "outputs": [
    {
     "data": {
      "text/plain": [
       "<matplotlib.axes._subplots.AxesSubplot at 0xc37abe0>"
      ]
     },
     "execution_count": 41,
     "metadata": {},
     "output_type": "execute_result"
    },
    {
     "data": {
      "image/png": "[encoded data removed]",
      "text/plain": [
       "<Figure size 432x288 with 1 Axes>"
      ]
     },
     "metadata": {},
     "output_type": "display_data"
    }
   ],
   "source": [
    "data_sample_tmp  = data_sample[cols]\n",
    "# Ploting the result to check the difference\n",
    "data_sample_tmp.join(data_sample3, rsuffix='_filtered').boxplot()"
   ]
  },
  {
   "cell_type": "code",
   "execution_count": 42,
   "metadata": {
    "colab": {
     "autoexec": {
      "startup": false,
      "wait_interval": 0
     },
     "base_uri": "https://localhost:8080/",
     "height": 393
    },
    "colab_type": "code",
    "executionInfo": {
     "elapsed": 1574,
     "status": "ok",
     "timestamp": 1529294481359,
     "user": {
      "displayName": "Omid Badr",
      "photoUrl": "https://lh3.googleusercontent.com/a/default-user=s128",
      "userId": "113638071916601593157"
     },
     "user_tz": 240
    },
    "id": "uYzBsSnbDaEe",
    "outputId": "ab5cf2d8-7d66-42b5-aba2-9cdf3784f554"
   },
   "outputs": [
    {
     "data": {
      "text/plain": [
       "<matplotlib.colorbar.Colorbar at 0xcf32f98>"
      ]
     },
     "execution_count": 42,
     "metadata": {},
     "output_type": "execute_result"
    },
    {
     "data": {
      "image/png": "[encoded data removed]",
      "text/plain": [
       "<Figure size 1296x1152 with 2 Axes>"
      ]
     },
     "metadata": {},
     "output_type": "display_data"
    }
   ],
   "source": [
    "fig = plt.figure(figsize=(18, 16))\n",
    "ax = fig.add_subplot(111)\n",
    "scatter = ax.scatter(data_sample3['Latitude'],data_sample3['Longitude'],\n",
    "                     c=data_sample3['Label'],cmap='viridis', s=30)\n",
    "\n",
    "plt.scatter(data_POI['Latitude'], data_POI['Longitude'], c='b', s=40, alpha=0.9);\n",
    "ax.set_title('POI location grouping requests')\n",
    "ax.set_xlabel('Latitude')\n",
    "ax.set_ylabel('Longitude')\n",
    "plt.colorbar(scatter)"
   ]
  },
  {
   "cell_type": "code",
   "execution_count": 43,
   "metadata": {
    "colab": {
     "autoexec": {
      "startup": false,
      "wait_interval": 0
     }
    },
    "colab_type": "code",
    "id": "ZoCFThTSD2gr"
   },
   "outputs": [],
   "source": [
    "POI_Location_sample_1 = len(data_sample3[data_sample3['Label']==0])\n",
    "POI_Location_sample_2 = len(data_sample3[data_sample3['Label']==1])\n",
    "POI_Location_sample_3 = len(data_sample3[data_sample3['Label']==2])\n",
    "POI_Location_sample_4 = len(data_sample3[data_sample3['Label']==3])"
   ]
  },
  {
   "cell_type": "code",
   "execution_count": 44,
   "metadata": {
    "colab": {
     "autoexec": {
      "startup": false,
      "wait_interval": 0
     }
    },
    "colab_type": "code",
    "id": "6MHVeo1GN0Zq"
   },
   "outputs": [],
   "source": [
    "## Separate the dataset (requests) by the value of the label (POI locations)\n",
    "\n",
    "grouped_df = data_sample3.groupby(['Label'])\n",
    "\n",
    "POI_Location_0_data_sample3 = grouped_df.get_group(0)\n",
    "POI_Location_2_data_sample3 = grouped_df.get_group(2)\n",
    "POI_Location_3_data_sample3 = grouped_df.get_group(3)"
   ]
  },
  {
   "cell_type": "code",
   "execution_count": 45,
   "metadata": {
    "colab": {
     "autoexec": {
      "startup": false,
      "wait_interval": 0
     },
     "base_uri": "https://localhost:8080/",
     "height": 34
    },
    "colab_type": "code",
    "executionInfo": {
     "elapsed": 1797,
     "status": "ok",
     "timestamp": 1529297399192,
     "user": {
      "displayName": "Omid Badr",
      "photoUrl": "https://lh3.googleusercontent.com/a/default-user=s128",
      "userId": "113638071916601593157"
     },
     "user_tz": 240
    },
    "id": "z_L1F3FsN0Z1",
    "outputId": "e4bc0bab-ebf5-4280-c138-dbad59284a73"
   },
   "outputs": [
    {
     "name": "stdout",
     "output_type": "stream",
     "text": [
      "POI Location 1 radius is:  22.704383 and density is: 2.992980  \n"
     ]
    }
   ],
   "source": [
    "radius0 = []\n",
    "for i in range(POI_Location_0_data_sample3.shape[0]):\n",
    "  points_smaple = [POI_Location_0_data_sample3.Latitude[i],POI_Location_0_data_sample3.Longitude[i]]  # find the Latitude and Longitude in sample data\n",
    "  points_POI = [data_POI.Latitude[0],data_POI.Longitude[0]]   # find the Latitude and Longitude in POI data for 4 coulmns\n",
    "  radius0.append(distance.euclidean(points_smaple , points_POI))  # Calculate the Eucledean distance between two location points \n",
    "  \n",
    "print('POI Location 1 radius is:  %f and density is: %f  ' % ( max(radius0), POI_Location_sample_1 / (2 * pi * max(radius0)* max(radius0))))\n"
   ]
  },
  {
   "cell_type": "code",
   "execution_count": 46,
   "metadata": {
    "colab": {
     "autoexec": {
      "startup": false,
      "wait_interval": 0
     },
     "base_uri": "https://localhost:8080/",
     "height": 34
    },
    "colab_type": "code",
    "executionInfo": {
     "elapsed": 1658,
     "status": "ok",
     "timestamp": 1529297439150,
     "user": {
      "displayName": "Omid Badr",
      "photoUrl": "https://lh3.googleusercontent.com/a/default-user=s128",
      "userId": "113638071916601593157"
     },
     "user_tz": 240
    },
    "id": "BQX2Nx5DN0Z8",
    "outputId": "049e65e4-3307-4026-9ef0-64f669a236f2"
   },
   "outputs": [
    {
     "name": "stdout",
     "output_type": "stream",
     "text": [
      "POI Location 3 radius is:  20.155378 and density is: 3.846069  \n"
     ]
    }
   ],
   "source": [
    "radius1 = []\n",
    "for i in range(POI_Location_2_data_sample3.shape[0]):\n",
    "  points_smaple = [POI_Location_2_data_sample3.Latitude[i],POI_Location_2_data_sample3.Longitude[i]]  # find the Latitude and Longitude in sample data\n",
    "  points_POI = [data_POI.Latitude[2],data_POI.Longitude[2]]   # find the Latitude and Longitude in POI data for 4 coulmns\n",
    "  radius1.append(distance.euclidean(points_smaple , points_POI))  # Calculate the Eucledean distance between two location points \n",
    "  \n",
    "print('POI Location 3 radius is:  %f and density is: %f  ' % ( max(radius1), POI_Location_sample_3 / (2 * pi * max(radius1)* max(radius1))))"
   ]
  },
  {
   "cell_type": "code",
   "execution_count": 47,
   "metadata": {
    "colab": {
     "autoexec": {
      "startup": false,
      "wait_interval": 0
     },
     "base_uri": "https://localhost:8080/",
     "height": 34
    },
    "colab_type": "code",
    "executionInfo": {
     "elapsed": 747,
     "status": "ok",
     "timestamp": 1529297471836,
     "user": {
      "displayName": "Omid Badr",
      "photoUrl": "https://lh3.googleusercontent.com/a/default-user=s128",
      "userId": "113638071916601593157"
     },
     "user_tz": 240
    },
    "id": "Iy8qIytMN0aC",
    "outputId": "2b0719ac-bf0d-4811-e92b-f5eaf99c2574"
   },
   "outputs": [
    {
     "name": "stdout",
     "output_type": "stream",
     "text": [
      "POI Location 4 radius is:  10.821120 and density is: 0.627939  \n"
     ]
    }
   ],
   "source": [
    "radius2 = []\n",
    "for i in range(POI_Location_3_data_sample3.shape[0]):\n",
    "  points_smaple = [POI_Location_3_data_sample3.Latitude[i],POI_Location_3_data_sample3.Longitude[i]]  # find the Latitude and Longitude in sample data\n",
    "  points_POI = [data_POI.Latitude[3],data_POI.Longitude[3]]   # find the Latitude and Longitude in POI data for 4 coulmns\n",
    "  radius2.append(distance.euclidean(points_smaple , points_POI))  # Calculate the Eucledean distance between two location points \n",
    "  \n",
    "print('POI Location 4 radius is:  %f and density is: %f  ' % ( max(radius2), POI_Location_sample_4 / (2 * pi * max(radius2)* max(radius2))))"
   ]
  },
  {
   "cell_type": "code",
   "execution_count": 48,
   "metadata": {
    "colab": {
     "autoexec": {
      "startup": false,
      "wait_interval": 0
     },
     "base_uri": "https://localhost:8080/",
     "height": 447
    },
    "colab_type": "code",
    "executionInfo": {
     "elapsed": 3396,
     "status": "ok",
     "timestamp": 1529298060371,
     "user": {
      "displayName": "Omid Badr",
      "photoUrl": "https://lh3.googleusercontent.com/a/default-user=s128",
      "userId": "113638071916601593157"
     },
     "user_tz": 240
    },
    "id": "hItxK-uQO68I",
    "outputId": "7c51af80-3dc2-4c22-c744-2e290773d902",
    "scrolled": false
   },
   "outputs": [
    {
     "name": "stderr",
     "output_type": "stream",
     "text": [
      "C:\\ProgramData\\Anaconda3\\lib\\site-packages\\matplotlib\\patches.py:83: UserWarning: Setting the 'color' property will overridethe edgecolor or facecolor properties. \n",
      "  warnings.warn(\"Setting the 'color' property will override\"\n"
     ]
    },
    {
     "data": {
      "text/plain": [
       "<matplotlib.colorbar.Colorbar at 0xc9aee80>"
      ]
     },
     "execution_count": 48,
     "metadata": {},
     "output_type": "execute_result"
    },
    {
     "data": {
      "image/png": "[encoded data removed]",
      "text/plain": [
       "<Figure size 1296x1152 with 2 Axes>"
      ]
     },
     "metadata": {},
     "output_type": "display_data"
    }
   ],
   "source": [
    "circle1 = plt.Circle((data_POI.Latitude[0],data_POI.Longitude[0]), max(radius0),  color='r', alpha=0.3, edgecolor='none')\n",
    "circle2 = plt.Circle((data_POI.Latitude[2],data_POI.Longitude[2]), max(radius1),  color='g', alpha=0.3, edgecolor='none')\n",
    "circle3 = plt.Circle((data_POI.Latitude[3],data_POI.Longitude[3]), max(radius2) , color='y', alpha=0.3, edgecolor='none')\n",
    "\n",
    "fig = plt.figure(figsize=(18, 16))\n",
    "ax = fig.add_subplot(111)\n",
    "scatter = ax.scatter(data_sample3['Latitude'],data_sample3['Longitude'],\n",
    "                     c=data_sample3['Label'],cmap='viridis', s=30)\n",
    "\n",
    "plt.scatter(data_POI['Latitude'], data_POI['Longitude'], c='black', s=60, alpha=1);\n",
    "ax.add_artist(circle1)\n",
    "ax.add_artist(circle2)\n",
    "ax.add_artist(circle3)\n",
    "ax.set_title('POI location grouping requests')\n",
    "ax.set_xlabel('Latitude')\n",
    "ax.set_ylabel('Longitude')\n",
    "plt.colorbar(scatter)"
   ]
  },
  {
   "cell_type": "code",
   "execution_count": null,
   "metadata": {
    "scrolled": true
   },
   "outputs": [],
   "source": [
    "# I mapped the Latitude and Longitude using basemap, it wasn't useful since I noticed the data was genereted and it wasn't real.\n",
    "# This part also takes time to run.\n",
    "\n",
    "'''\n",
    "from mpl_toolkits.basemap import Basemap\n",
    "import matplotlib.cm\n",
    "from matplotlib.patches import Polygon\n",
    "from matplotlib.collections import PatchCollection\n",
    "from matplotlib.colors import Normalize\n",
    "\n",
    "fig, ax = plt.subplots(figsize=(20,20))\n",
    "m = Basemap(llcrnrlon=data_sample.Longitude.min(),llcrnrlat=data_sample.Latitude.min(),\n",
    "            urcrnrlon=data_sample.Longitude.max(),urcrnrlat=data_sample.Latitude.max(),\n",
    "            resolution='i', # Set using letters, e.g. c is a crude drawing, f is a full detailed drawing\n",
    "            projection='mill', # The projection style is what gives us a 2D view of the world for this\n",
    "           ) \n",
    "\n",
    "# m.drawmapboundary(fill_color='#46bcec') # Make your map into any style you like\n",
    "m.fillcontinents(color='#f2f2f2',lake_color='#46bcec') # Make your map into any style you like\n",
    "# m.fillcontinents() # Make your map into any style you like\n",
    "m.drawcoastlines()\n",
    "# m.drawrivers() # Default colour is black but it can be customised\n",
    "m.drawcountries()\n",
    "m.drawstates()\n",
    "# m.etopo()\n",
    "# m.bluemarble()\n",
    "\n",
    "df = data_sample[:]\n",
    "df['lat_lon'] = list(zip(data_sample.Latitude, data_sample.Longitude)) # Creating tuples\n",
    "\n",
    "for i in df['lat_lon']:\n",
    "    x,y = i\n",
    "    m.plot(x, y, marker = 'o', c='r', markersize=1, alpha=0.8, latlon=False)\n",
    "\n",
    "plt.show()\n",
    "'''"
   ]
  }
 ],
 "metadata": {
  "accelerator": "GPU",
  "colab": {
   "collapsed_sections": [],
   "default_view": {},
   "name": "EQ_Project.ipynb",
   "provenance": [],
   "version": "0.3.2",
   "views": {}
  },
  "kernelspec": {
   "display_name": "Python 3",
   "language": "python",
   "name": "python3"
  },
  "language_info": {
   "codemirror_mode": {
    "name": "ipython",
    "version": 3
   },
   "file_extension": ".py",
   "mimetype": "text/x-python",
   "name": "python",
   "nbconvert_exporter": "python",
   "pygments_lexer": "ipython3",
   "version": "3.6.5"
  }
 },
 "nbformat": 4,
 "nbformat_minor": 1
}
